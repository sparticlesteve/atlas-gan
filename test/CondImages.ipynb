{
 "cells": [
  {
   "cell_type": "markdown",
   "metadata": {},
   "source": [
    "# Tests for RPVCondImages Dataset"
   ]
  },
  {
   "cell_type": "code",
   "execution_count": 1,
   "metadata": {},
   "outputs": [],
   "source": [
    "import sys\n",
    "sys.path.append('..')"
   ]
  },
  {
   "cell_type": "code",
   "execution_count": 2,
   "metadata": {},
   "outputs": [],
   "source": [
    "from torch.utils.data import DataLoader, ConcatDataset"
   ]
  },
  {
   "cell_type": "code",
   "execution_count": 3,
   "metadata": {},
   "outputs": [],
   "source": [
    "from atlasgan.datasets import RPVCondImages"
   ]
  },
  {
   "cell_type": "code",
   "execution_count": 4,
   "metadata": {},
   "outputs": [],
   "source": [
    "# Config\n",
    "n_samples = 1024\n",
    "batch_size = 32\n",
    "\n",
    "input_files = [\n",
    "    '/global/cscratch1/sd/sfarrell/atlas_gan/data_split/RPV10_1400_850_01_train.npz',\n",
    "    '/global/cscratch1/sd/sfarrell/atlas_gan/data_split/RPV10_1600_850_01_train.npz',\n",
    "    '/global/cscratch1/sd/sfarrell/atlas_gan/data_split/RPV10_1800_850_01_train.npz'\n",
    "]"
   ]
  },
  {
   "cell_type": "code",
   "execution_count": 5,
   "metadata": {},
   "outputs": [],
   "source": [
    "datasets = [RPVCondImages(f, n_samples=n_samples) for f in input_files]\n",
    "dataset = ConcatDataset(datasets)"
   ]
  },
  {
   "cell_type": "code",
   "execution_count": 11,
   "metadata": {},
   "outputs": [],
   "source": [
    "data_loader = DataLoader(dataset, batch_size=batch_size, shuffle=True)"
   ]
  },
  {
   "cell_type": "code",
   "execution_count": 12,
   "metadata": {},
   "outputs": [],
   "source": [
    "for batch_data in data_loader:\n",
    "    break"
   ]
  },
  {
   "cell_type": "code",
   "execution_count": 13,
   "metadata": {},
   "outputs": [
    {
     "data": {
      "text/plain": [
       "[\n",
       " (0 ,0 ,.,.) = \n",
       "   0.0000  0.0000  0.0000  ...   0.0000  0.0000  0.0000\n",
       "   0.0000  0.0000  0.0000  ...   0.0000  0.0000  0.0000\n",
       "   0.0000  0.0000  0.0000  ...   0.0000  0.0000  0.0000\n",
       "            ...             ⋱             ...          \n",
       "   0.0000  0.0000  0.0000  ...   0.0000  0.0000  0.0000\n",
       "   0.0000  0.0000  0.0000  ...   0.0000  0.0000  0.0000\n",
       "   0.0000  0.0000  0.0000  ...   0.0000  0.0000  0.0000\n",
       "      ⋮ \n",
       " \n",
       " (1 ,0 ,.,.) = \n",
       "   0.0000  0.0000  0.0000  ...   0.0000  0.0000  0.0000\n",
       "   0.0000  0.0000  0.0000  ...   0.0000  0.0000  0.0000\n",
       "   0.0000  0.0000  0.0000  ...   0.0000  0.0000  0.0000\n",
       "            ...             ⋱             ...          \n",
       "   0.0000  0.0000  0.0000  ...   0.0000  0.0000  0.0000\n",
       "   0.0000  0.0000  0.0000  ...   0.0000  0.0000  0.0000\n",
       "   0.0000  0.0000  0.0000  ...   0.0000  0.0000  0.0000\n",
       "      ⋮ \n",
       " \n",
       " (2 ,0 ,.,.) = \n",
       "   0.0000  0.0000  0.0000  ...   0.0000  0.0000  0.0000\n",
       "   0.0000  0.0000  0.0000  ...   0.0000  0.0000  0.0000\n",
       "   0.0000  0.0000  0.0000  ...   0.0000  0.0000  0.0000\n",
       "            ...             ⋱             ...          \n",
       "   0.0000  0.0000  0.0000  ...   0.0000  0.0000  0.0000\n",
       "   0.0000  0.0000  0.0000  ...   0.0000  0.0000  0.0000\n",
       "   0.0000  0.0000  0.0000  ...   0.0000  0.0000  0.0000\n",
       " ...   \n",
       "      ⋮ \n",
       " \n",
       " (29,0 ,.,.) = \n",
       "   0.0000  0.0005  0.0000  ...   0.0000  0.0000  0.0000\n",
       "   0.0000  0.0000  0.0000  ...   0.0000  0.0000  0.0000\n",
       "   0.0000  0.0000  0.0000  ...   0.0000  0.0000  0.0000\n",
       "            ...             ⋱             ...          \n",
       "   0.0000  0.0000  0.0000  ...   0.0000  0.0000  0.0308\n",
       "   0.0000  0.0000  0.0000  ...   0.0000  0.0335  0.0000\n",
       "   0.0000  0.0000  0.0000  ...   0.0000  0.0000  0.0000\n",
       "      ⋮ \n",
       " \n",
       " (30,0 ,.,.) = \n",
       "   0.0000  0.0000  0.0000  ...   0.0000  0.0000  0.0000\n",
       "   0.0000  0.0000  0.0000  ...   0.0000  0.0000  0.0004\n",
       "   0.0000  0.0000  0.0000  ...   0.0000  0.0000  0.0000\n",
       "            ...             ⋱             ...          \n",
       "   0.0000  0.0000  0.0000  ...   0.0000  0.0000  0.0000\n",
       "   0.0000  0.0000  0.0008  ...   0.0000  0.0000  0.0000\n",
       "   0.0000  0.0000  0.0000  ...   0.0002  0.0000  0.0000\n",
       "      ⋮ \n",
       " \n",
       " (31,0 ,.,.) = \n",
       "   0.0000  0.0000  0.0000  ...   0.0000  0.0022  0.0000\n",
       "   0.0000  0.0001  0.0000  ...   0.0000  0.0000  0.0000\n",
       "   0.0000  0.0000  0.0000  ...   0.0000  0.0000  0.0000\n",
       "            ...             ⋱             ...          \n",
       "   0.0003  0.0000  0.0003  ...   0.0000  0.0000  0.0000\n",
       "   0.0000  0.0000  0.0000  ...   0.0000  0.0000  0.0004\n",
       "   0.0000  0.0000  0.0000  ...   0.0000  0.0000  0.0000\n",
       " [torch.FloatTensor of size 32x1x64x64], \n",
       "  0.0000  0.4286\n",
       "  0.4000  0.4286\n",
       "  0.4000  0.4286\n",
       "  0.8000  0.4286\n",
       "  0.0000  0.4286\n",
       "  0.8000  0.4286\n",
       "  0.4000  0.4286\n",
       "  0.8000  0.4286\n",
       "  0.0000  0.4286\n",
       "  0.4000  0.4286\n",
       "  0.4000  0.4286\n",
       "  0.4000  0.4286\n",
       "  0.4000  0.4286\n",
       "  0.4000  0.4286\n",
       "  0.8000  0.4286\n",
       "  0.8000  0.4286\n",
       "  0.8000  0.4286\n",
       "  0.4000  0.4286\n",
       "  0.0000  0.4286\n",
       "  0.0000  0.4286\n",
       "  0.4000  0.4286\n",
       "  0.8000  0.4286\n",
       "  0.0000  0.4286\n",
       "  0.0000  0.4286\n",
       "  0.8000  0.4286\n",
       "  0.8000  0.4286\n",
       "  0.0000  0.4286\n",
       "  0.8000  0.4286\n",
       "  0.8000  0.4286\n",
       "  0.4000  0.4286\n",
       "  0.4000  0.4286\n",
       "  0.8000  0.4286\n",
       " [torch.FloatTensor of size 32x2]]"
      ]
     },
     "execution_count": 13,
     "metadata": {},
     "output_type": "execute_result"
    }
   ],
   "source": [
    "batch_data"
   ]
  },
  {
   "cell_type": "code",
   "execution_count": null,
   "metadata": {},
   "outputs": [],
   "source": [
    "len(batch_data[1])"
   ]
  }
 ],
 "metadata": {
  "kernelspec": {
   "display_name": "pytorch3",
   "language": "python",
   "name": "pytorch3"
  },
  "language_info": {
   "codemirror_mode": {
    "name": "ipython",
    "version": 3
   },
   "file_extension": ".py",
   "mimetype": "text/x-python",
   "name": "python",
   "nbconvert_exporter": "python",
   "pygments_lexer": "ipython3",
   "version": "3.6.6"
  }
 },
 "nbformat": 4,
 "nbformat_minor": 2
}
