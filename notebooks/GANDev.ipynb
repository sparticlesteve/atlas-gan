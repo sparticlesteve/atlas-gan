{
 "cells": [
  {
   "cell_type": "markdown",
   "metadata": {},
   "source": [
    "# Development notebook for GAN architecture\n",
    "\n",
    "I'll use this notebook to test out modifications to the DCGAN architecture."
   ]
  },
  {
   "cell_type": "code",
   "execution_count": 3,
   "metadata": {},
   "outputs": [],
   "source": [
    "# System\n",
    "from __future__ import print_function\n",
    "from __future__ import absolute_import\n",
    "from __future__ import division\n",
    "\n",
    "# Externals\n",
    "import torch\n",
    "import torch.nn as nn\n",
    "from torch.autograd import Variable"
   ]
  },
  {
   "cell_type": "markdown",
   "metadata": {},
   "source": [
    "## Testing out different conv params\n",
    "\n",
    "Can I tweak the kernel sizes, strides, number of layers, and maintain a consistent input and output size?"
   ]
  },
  {
   "cell_type": "code",
   "execution_count": 31,
   "metadata": {},
   "outputs": [
    {
     "data": {
      "text/plain": [
       "torch.Size([1, 1, 64, 64])"
      ]
     },
     "execution_count": 31,
     "metadata": {},
     "output_type": "execute_result"
    }
   ],
   "source": [
    "# Create a sample image and noise for input\n",
    "img_size = 64\n",
    "x = Variable(torch.randn(1, 1, img_size, img_size))\n",
    "x.size()"
   ]
  },
  {
   "cell_type": "code",
   "execution_count": 32,
   "metadata": {},
   "outputs": [
    {
     "data": {
      "text/plain": [
       "torch.Size([1, 64, 1, 1])"
      ]
     },
     "execution_count": 32,
     "metadata": {},
     "output_type": "execute_result"
    }
   ],
   "source": [
    "noise_dim = 64\n",
    "noise = Variable(torch.randn(1, noise_dim, 1, 1))\n",
    "noise.size()"
   ]
  },
  {
   "cell_type": "markdown",
   "metadata": {},
   "source": [
    "### Default layer configuration"
   ]
  },
  {
   "cell_type": "code",
   "execution_count": 63,
   "metadata": {},
   "outputs": [
    {
     "name": "stdout",
     "output_type": "stream",
     "text": [
      "input: torch.Size([1, 1, 64, 64])\n",
      "conv1: torch.Size([1, 16, 32, 32])\n",
      "conv2: torch.Size([1, 32, 16, 16])\n",
      "conv3: torch.Size([1, 64, 8, 8])\n",
      "conv4: torch.Size([1, 128, 4, 4])\n",
      "conv5: torch.Size([1, 1, 1, 1])\n"
     ]
    }
   ],
   "source": [
    "# Discriminator layer sizes (dropping BN and activations)\n",
    "ndf = 16\n",
    "print('input:', x.size())\n",
    "h = nn.Conv2d(1, ndf, 4, 2, 1)(x)\n",
    "print('conv1:', h.size())\n",
    "h = nn.Conv2d(ndf, ndf*2, 4, 2, 1)(h)\n",
    "print('conv2:', h.size())\n",
    "h = nn.Conv2d(ndf*2, ndf*4, 4, 2, 1)(h)\n",
    "print('conv3:', h.size())\n",
    "h = nn.Conv2d(ndf*4, ndf*8, 4, 2, 1)(h)\n",
    "print('conv4:', h.size())\n",
    "d = nn.Conv2d(ndf*8, 1, 4, 1, 0)(h)\n",
    "print('conv5:', d.size())"
   ]
  },
  {
   "cell_type": "code",
   "execution_count": 46,
   "metadata": {},
   "outputs": [
    {
     "name": "stdout",
     "output_type": "stream",
     "text": [
      "input:   torch.Size([1, 64, 1, 1])\n",
      "deconv1: torch.Size([1, 128, 4, 4])\n",
      "deconv2: torch.Size([1, 64, 8, 8])\n",
      "deconv3: torch.Size([1, 32, 16, 16])\n",
      "deconv4: torch.Size([1, 16, 32, 32])\n",
      "deconv5: torch.Size([1, 1, 64, 64])\n"
     ]
    }
   ],
   "source": [
    "# Generator layer sizes\n",
    "ngf = 16\n",
    "print('input:  ', noise.size())\n",
    "h = nn.ConvTranspose2d(noise_dim, ngf*8, 4, 1, 0)(noise)\n",
    "print('deconv1:', h.size())\n",
    "h = nn.ConvTranspose2d(ngf*8, ngf*4, 4, 2, 1)(h)\n",
    "print('deconv2:', h.size())\n",
    "h = nn.ConvTranspose2d(ngf*4, ngf*2, 4, 2, 1)(h)\n",
    "print('deconv3:', h.size())\n",
    "h = nn.ConvTranspose2d(ngf*2, ngf, 4, 2, 1)(h)\n",
    "print('deconv4:', h.size())\n",
    "g = nn.ConvTranspose2d(ngf, 1, 4, 2, 1)(h)\n",
    "print('deconv5:', g.size())"
   ]
  },
  {
   "cell_type": "markdown",
   "metadata": {},
   "source": [
    "### With one extra layer in each"
   ]
  },
  {
   "cell_type": "code",
   "execution_count": 62,
   "metadata": {},
   "outputs": [
    {
     "name": "stdout",
     "output_type": "stream",
     "text": [
      "input: torch.Size([1, 1, 64, 64])\n",
      "conv1: torch.Size([1, 16, 32, 32])\n",
      "conv2: torch.Size([1, 32, 16, 16])\n",
      "conv3: torch.Size([1, 64, 8, 8])\n",
      "conv4: torch.Size([1, 128, 4, 4])\n",
      "conv5: torch.Size([1, 256, 2, 2])\n",
      "conv6: torch.Size([1, 1, 1, 1])\n"
     ]
    }
   ],
   "source": [
    "# Discriminator layer sizes (dropping BN and activations)\n",
    "ndf = 16\n",
    "print('input:', x.size())\n",
    "h = nn.Conv2d(1, ndf, 4, 2, 1)(x)\n",
    "print('conv1:', h.size())\n",
    "h = nn.Conv2d(ndf, ndf*2, 4, 2, 1)(h)\n",
    "print('conv2:', h.size())\n",
    "h = nn.Conv2d(ndf*2, ndf*4, 4, 2, 1)(h)\n",
    "print('conv3:', h.size())\n",
    "h = nn.Conv2d(ndf*4, ndf*8, 4, 2, 1)(h)\n",
    "print('conv4:', h.size())\n",
    "h = nn.Conv2d(ndf*8, ndf*16, 4, 2, 1)(h)\n",
    "print('conv5:', h.size())\n",
    "d = nn.Conv2d(ndf*16, 1, 2, 1, 0)(h)\n",
    "print('conv6:', d.size())"
   ]
  },
  {
   "cell_type": "code",
   "execution_count": 64,
   "metadata": {},
   "outputs": [
    {
     "name": "stdout",
     "output_type": "stream",
     "text": [
      "input:   torch.Size([1, 64, 1, 1])\n",
      "deconv1: torch.Size([1, 256, 2, 2])\n",
      "deconv2: torch.Size([1, 128, 4, 4])\n",
      "deconv3: torch.Size([1, 64, 8, 8])\n",
      "deconv4: torch.Size([1, 32, 16, 16])\n",
      "deconv5: torch.Size([1, 16, 32, 32])\n",
      "deconv6: torch.Size([1, 1, 64, 64])\n"
     ]
    }
   ],
   "source": [
    "# Generator layer sizes\n",
    "ngf = 16\n",
    "print('input:  ', noise.size())\n",
    "h = nn.ConvTranspose2d(noise_dim, ngf*16, 2, 1, 0)(noise)\n",
    "print('deconv1:', h.size())\n",
    "h = nn.ConvTranspose2d(ngf*16, ngf*8, 4, 2, 1)(h)\n",
    "print('deconv2:', h.size())\n",
    "h = nn.ConvTranspose2d(ngf*8, ngf*4, 4, 2, 1)(h)\n",
    "print('deconv3:', h.size())\n",
    "h = nn.ConvTranspose2d(ngf*4, ngf*2, 4, 2, 1)(h)\n",
    "print('deconv4:', h.size())\n",
    "h = nn.ConvTranspose2d(ngf*2, ngf, 4, 2, 1)(h)\n",
    "print('deconv5:', h.size())\n",
    "g = nn.ConvTranspose2d(ngf, 1, 4, 2, 1)(h)\n",
    "print('deconv6:', g.size())"
   ]
  }
 ],
 "metadata": {
  "kernelspec": {
   "display_name": "Python 2",
   "language": "python",
   "name": "python2"
  },
  "language_info": {
   "codemirror_mode": {
    "name": "ipython",
    "version": 2
   },
   "file_extension": ".py",
   "mimetype": "text/x-python",
   "name": "python",
   "nbconvert_exporter": "python",
   "pygments_lexer": "ipython2",
   "version": "2.7.12"
  }
 },
 "nbformat": 4,
 "nbformat_minor": 2
}
